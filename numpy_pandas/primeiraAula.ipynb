{
 "cells": [
  {
   "cell_type": "markdown",
   "metadata": {},
   "source": [
    "## Numpy\n",
    "\n",
    "Introdução e principais comandos da biblioteca Numpy"
   ]
  },
  {
   "cell_type": "code",
   "execution_count": 7,
   "metadata": {},
   "outputs": [],
   "source": [
    "import numpy as np"
   ]
  },
  {
   "cell_type": "code",
   "execution_count": 8,
   "metadata": {},
   "outputs": [],
   "source": [
    "notas = []\n",
    "\n",
    "for nota in range(10):\n",
    "    numero = float(input(\"Informe um número: \"))\n",
    "    notas.append(numero)\n",
    "\n",
    "array_numpy = np.array(notas)"
   ]
  },
  {
   "cell_type": "code",
   "execution_count": 9,
   "metadata": {},
   "outputs": [
    {
     "name": "stdout",
     "output_type": "stream",
     "text": [
      "desvio padrão 2.8562913016707525\n",
      "média 6.34\n",
      "ordenando None\n",
      "soma 63.4\n",
      "soma 63.4\n"
     ]
    }
   ],
   "source": [
    "print(\"desvio padrão\", array_numpy.std())\n",
    "print(\"média\", array_numpy.mean())\n",
    "print(\"ordenando\", array_numpy.sort())\n",
    "print(\"soma\", array_numpy.sum())\n",
    "print(\"soma\", array_numpy.sum())\n",
    "\n"
   ]
  },
  {
   "cell_type": "markdown",
   "metadata": {},
   "source": [
    "## Panda Series\n",
    "\n",
    "Uma introdução a biblioteca Pandas e series"
   ]
  },
  {
   "cell_type": "code",
   "execution_count": 1,
   "metadata": {},
   "outputs": [],
   "source": [
    "import pandas as pd"
   ]
  },
  {
   "cell_type": "code",
   "execution_count": 3,
   "metadata": {},
   "outputs": [
    {
     "name": "stdout",
     "output_type": "stream",
     "text": [
      "0    12\n",
      "1    24\n",
      "2    30\n",
      "3    25\n",
      "4    40\n",
      "5    19\n",
      "dtype: int64\n"
     ]
    }
   ],
   "source": [
    "lista = [12, 24, 30, 25, 40, 19]\n",
    "serie_pandas = pd.Series(lista)\n",
    "print(serie_pandas)"
   ]
  },
  {
   "cell_type": "code",
   "execution_count": 4,
   "metadata": {},
   "outputs": [
    {
     "name": "stdout",
     "output_type": "stream",
     "text": [
      "Matheus    7.3\n",
      "Vitória    9.3\n",
      "Julia      6.9\n",
      "dtype: float64\n"
     ]
    }
   ],
   "source": [
    "notas = {\"Matheus\" : 7.3, \"Vitória\" : 9.3, \"Julia\" : 6.9}\n",
    "serie_notas = pd.Series(notas)\n",
    "print(serie_notas)"
   ]
  },
  {
   "cell_type": "code",
   "execution_count": 5,
   "metadata": {},
   "outputs": [
    {
     "data": {
      "text/plain": [
       "count    3.000000\n",
       "mean     7.833333\n",
       "std      1.285820\n",
       "min      6.900000\n",
       "25%      7.100000\n",
       "50%      7.300000\n",
       "75%      8.300000\n",
       "max      9.300000\n",
       "dtype: float64"
      ]
     },
     "execution_count": 5,
     "metadata": {},
     "output_type": "execute_result"
    }
   ],
   "source": [
    "serie_notas.describe()"
   ]
  },
  {
   "cell_type": "code",
   "execution_count": 8,
   "metadata": {},
   "outputs": [
    {
     "data": {
      "text/html": [
       "<div>\n",
       "<style scoped>\n",
       "    .dataframe tbody tr th:only-of-type {\n",
       "        vertical-align: middle;\n",
       "    }\n",
       "\n",
       "    .dataframe tbody tr th {\n",
       "        vertical-align: top;\n",
       "    }\n",
       "\n",
       "    .dataframe thead th {\n",
       "        text-align: right;\n",
       "    }\n",
       "</style>\n",
       "<table border=\"1\" class=\"dataframe\">\n",
       "  <thead>\n",
       "    <tr style=\"text-align: right;\">\n",
       "      <th></th>\n",
       "      <th>Autores</th>\n",
       "      <th>Titulos</th>\n",
       "      <th>Precos</th>\n",
       "    </tr>\n",
       "  </thead>\n",
       "  <tbody>\n",
       "    <tr>\n",
       "      <th>0</th>\n",
       "      <td>Machado de Assis</td>\n",
       "      <td>Dom casmurro</td>\n",
       "      <td>22.2</td>\n",
       "    </tr>\n",
       "    <tr>\n",
       "      <th>1</th>\n",
       "      <td>R. R Martin</td>\n",
       "      <td>Game of Thrones</td>\n",
       "      <td>23.5</td>\n",
       "    </tr>\n",
       "    <tr>\n",
       "      <th>2</th>\n",
       "      <td>George Orwell</td>\n",
       "      <td>1984</td>\n",
       "      <td>16.3</td>\n",
       "    </tr>\n",
       "  </tbody>\n",
       "</table>\n",
       "</div>"
      ],
      "text/plain": [
       "            Autores          Titulos  Precos\n",
       "0  Machado de Assis     Dom casmurro    22.2\n",
       "1       R. R Martin  Game of Thrones    23.5\n",
       "2     George Orwell             1984    16.3"
      ]
     },
     "execution_count": 8,
     "metadata": {},
     "output_type": "execute_result"
    }
   ],
   "source": [
    "#cria um dicionario com autores, preços e tirulos\n",
    "dicionario = {\"Autores\" : [\"Machado de Assis\", \"R. R Martin\", \"George Orwell\"],\n",
    "              \"Titulos\" : [\"Dom casmurro\", \"Game of Thrones\", \"1984\"],\n",
    "              \"Precos\"  : [22.2, 23.5, 16.3]\n",
    "              }\n",
    "\n",
    "# criando dataframe \n",
    "df = pd.DataFrame(dicionario)\n",
    "df "
   ]
  },
  {
   "cell_type": "code",
   "execution_count": 9,
   "metadata": {},
   "outputs": [
    {
     "data": {
      "text/html": [
       "<div>\n",
       "<style scoped>\n",
       "    .dataframe tbody tr th:only-of-type {\n",
       "        vertical-align: middle;\n",
       "    }\n",
       "\n",
       "    .dataframe tbody tr th {\n",
       "        vertical-align: top;\n",
       "    }\n",
       "\n",
       "    .dataframe thead th {\n",
       "        text-align: right;\n",
       "    }\n",
       "</style>\n",
       "<table border=\"1\" class=\"dataframe\">\n",
       "  <thead>\n",
       "    <tr style=\"text-align: right;\">\n",
       "      <th></th>\n",
       "      <th>Autores</th>\n",
       "      <th>Titulos</th>\n",
       "      <th>Precos</th>\n",
       "    </tr>\n",
       "  </thead>\n",
       "  <tbody>\n",
       "    <tr>\n",
       "      <th>0</th>\n",
       "      <td>Machado de Assis</td>\n",
       "      <td>Dom casmurro</td>\n",
       "      <td>22.2</td>\n",
       "    </tr>\n",
       "  </tbody>\n",
       "</table>\n",
       "</div>"
      ],
      "text/plain": [
       "            Autores       Titulos  Precos\n",
       "0  Machado de Assis  Dom casmurro    22.2"
      ]
     },
     "execution_count": 9,
     "metadata": {},
     "output_type": "execute_result"
    }
   ],
   "source": [
    "# Filtragem\n",
    "mascara = (df[\"Autores\"] == \"Machado de Assis\")\n",
    "df[mascara]"
   ]
  },
  {
   "cell_type": "code",
   "execution_count": 12,
   "metadata": {},
   "outputs": [
    {
     "name": "stderr",
     "output_type": "stream",
     "text": [
      "C:\\Users\\meloy\\AppData\\Local\\Temp\\ipykernel_8404\\2645945537.py:2: FutureWarning: The frame.append method is deprecated and will be removed from pandas in a future version. Use pandas.concat instead.\n",
      "  df = df.append({\"Autores\" : \"George Orwell\", \"Titulos\" : \"Revolução dos bichos\", \"Precos\" : 30.20}, ignore_index=True)\n"
     ]
    }
   ],
   "source": [
    "#Adicionando elemento\n",
    "df = df.append({\"Autores\" : \"George Orwell\", \"Titulos\" : \"Revolução dos bichos\", \"Precos\" : 30.20}, ignore_index=True)"
   ]
  }
 ],
 "metadata": {
  "kernelspec": {
   "display_name": "Python 3",
   "language": "python",
   "name": "python3"
  },
  "language_info": {
   "codemirror_mode": {
    "name": "ipython",
    "version": 3
   },
   "file_extension": ".py",
   "mimetype": "text/x-python",
   "name": "python",
   "nbconvert_exporter": "python",
   "pygments_lexer": "ipython3",
   "version": "3.11.1"
  }
 },
 "nbformat": 4,
 "nbformat_minor": 2
}
